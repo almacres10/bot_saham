{
 "cells": [
  {
   "cell_type": "code",
   "execution_count": null,
   "metadata": {},
   "outputs": [],
   "source": [
    "import os\n",
    "import telebot\n",
    "import yfinance as yf\n",
    "\n",
    "API_KEY = '7123140191:AAEL-SOG_2Vtnnjn6gfDFSKyGVTYY5vlO2c'\n",
    "\n",
    "bot = telebot.TeleBot(API_KEY)\n",
    "\n",
    "@bot.message_handler(commands=['Greet'])\n",
    "def greet(message):\n",
    "  bot.reply_to(message, \"Halo, ini bot untuk cek saham di IHSG\")\n",
    "\n",
    "@bot.message_handler(commands=['hello'])\n",
    "def hello(message):\n",
    "  bot.send_message(message.chat.id, \"Hello!\")\n",
    "\n",
    "def stock_request(message):\n",
    "  request = message.text.split()\n",
    "  if len(request) < 2 or request[0].lower() not in \"price\":\n",
    "    return False\n",
    "  else:\n",
    "    return True\n",
    "\n",
    "@bot.message_handler(func=stock_request)\n",
    "def send_price(message):\n",
    "  request = message.text.split()[1]\n",
    "  data = yf.download(tickers=request, period='5m', interval='1m')\n",
    "  if data.size > 0:\n",
    "    data = data.reset_index()\n",
    "    data[\"format_date\"] = data['Datetime'].dt.strftime('%m/%d %I:%M %p')\n",
    "    data.set_index('format_date', inplace=True)\n",
    "    print(data.to_string())\n",
    "    bot.send_message(message.chat.id, data['Close'].to_string(header=False))\n",
    "  else:\n",
    "    bot.send_message(message.chat.id, \"No data!?\")\n",
    "\n",
    "bot.polling()"
   ]
  }
 ],
 "metadata": {
  "kernelspec": {
   "display_name": "Python 3",
   "language": "python",
   "name": "python3"
  },
  "language_info": {
   "codemirror_mode": {
    "name": "ipython",
    "version": 3
   },
   "file_extension": ".py",
   "mimetype": "text/x-python",
   "name": "python",
   "nbconvert_exporter": "python",
   "pygments_lexer": "ipython3",
   "version": "3.12.1"
  }
 },
 "nbformat": 4,
 "nbformat_minor": 2
}
